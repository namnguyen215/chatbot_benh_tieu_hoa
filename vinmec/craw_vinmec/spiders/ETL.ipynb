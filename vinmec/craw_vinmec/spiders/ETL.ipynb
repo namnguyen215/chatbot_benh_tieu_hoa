{
 "cells": [
  {
   "cell_type": "code",
   "execution_count": 9,
   "metadata": {},
   "outputs": [],
   "source": [
    "import json  \n",
    "import pandas as pd\n",
    "import re\n",
    "f = open('../../chi_tiet_benh_tieu_hoa.json', encoding='UTF-8')\n",
    "data = json.load(f)\n",
    "\n",
    "list_benh = []\n",
    "\n",
    "list_vande_tongquat = ['Tổng quan',\n",
    " 'Nguyên nhân',\n",
    " 'Triệu chứng',\n",
    " 'Đường lây truyền',\n",
    " 'Đối tượng nguy cơ',\n",
    " 'Phòng ngừa',\n",
    " 'Các biện pháp chẩn đoán',\n",
    " 'Các biện pháp điều trị']\n",
    "\n",
    "for benh in data[:]:\n",
    "    benh_etl = {}       #dict chua thong tin tung benh\n",
    "    list_infor = benh[\"cac-van-de-lien-quan\"]   \n",
    " \n",
    "    ten_benh = str(list_infor[0]['van_de']).replace(\"  \",\" \").replace(\"Hình ảnh bệnh\",\"\").replace(\"Hình ảnh \",\"\").replace(\"Tổng quan bệnh \",\"\").strip()\n",
    "\n",
    "    # print(ten_benh)\n",
    "    vande_list = [] \n",
    "\n",
    "    benh_etl['Tên bệnh'] = ten_benh\n",
    "\n",
    "    for vande in list_infor[1:]:\n",
    "        #vande_list_raw = [item for item in vande[\"van_de\"] if re.search(\"[\\\\r\\\\n\\\\t]\", item) is None ]\n",
    "        vande_list.append(vande[\"van_de\"])\n",
    "        string_remove_space = ' '.join(str(vande[\"van_de\"]).split())\n",
    "\n",
    "        ten_vande =  string_remove_space.replace(str(ten_benh),\"\").replace(\"bệnh\",\"\").strip()\n",
    "        \n",
    "        if ten_vande in list_vande_tongquat:\n",
    "            #benh_etl[ten_vande] = vande[\"tra_loi\"] \n",
    "            benh_etl[ten_vande] = [item for item in vande[\"tra_loi\"] if re.search(\"[\\\\r\\\\n\\\\t]\", item) is None ]\n",
    "            #print(ten_benh == \"viêm ruột thừa\",\"=====\", ten_benh)\n",
    "        else:\n",
    "            print(ten_vande,\"===\", vande[\"van_de\"], \"===\",ten_benh, \"====\",string_remove_space)\n",
    "    # benh_etl['sl'] = len(vande_list)\n",
    "    # benh_etl[\"vde\"] = vande_list\n",
    "    list_benh.append(benh_etl)\n",
    "\n",
    "df = pd.DataFrame(list_benh, columns=['Tên bệnh', 'Tổng quan',\n",
    " 'Nguyên nhân',\n",
    " 'Triệu chứng',\n",
    " 'Đường lây truyền',\n",
    " 'Đối tượng nguy cơ',\n",
    " 'Phòng ngừa',\n",
    " 'Các biện pháp chẩn đoán',\n",
    " 'Các biện pháp điều trị'])\n",
    "    "
   ]
  },
  {
   "cell_type": "code",
   "execution_count": 17,
   "metadata": {},
   "outputs": [
    {
     "data": {
      "text/html": [
       "<div>\n",
       "<style scoped>\n",
       "    .dataframe tbody tr th:only-of-type {\n",
       "        vertical-align: middle;\n",
       "    }\n",
       "\n",
       "    .dataframe tbody tr th {\n",
       "        vertical-align: top;\n",
       "    }\n",
       "\n",
       "    .dataframe thead th {\n",
       "        text-align: right;\n",
       "    }\n",
       "</style>\n",
       "<table border=\"1\" class=\"dataframe\">\n",
       "  <thead>\n",
       "    <tr style=\"text-align: right;\">\n",
       "      <th></th>\n",
       "      <th>Tên bệnh</th>\n",
       "      <th>Tổng quan</th>\n",
       "      <th>Nguyên nhân</th>\n",
       "      <th>Triệu chứng</th>\n",
       "      <th>Đường lây truyền</th>\n",
       "      <th>Đối tượng nguy cơ</th>\n",
       "      <th>Phòng ngừa</th>\n",
       "      <th>Các biện pháp chẩn đoán</th>\n",
       "      <th>Các biện pháp điều trị</th>\n",
       "      <th>count null</th>\n",
       "    </tr>\n",
       "  </thead>\n",
       "  <tbody>\n",
       "    <tr>\n",
       "      <th>4</th>\n",
       "      <td>Viêm loét dạ dày</td>\n",
       "      <td>[Viêm loét dạ dày,  là tổn thương gây viêm và ...</td>\n",
       "      <td>[Có rất nhiều nguyên nhân gây viêm loét dạ dày...</td>\n",
       "      <td>[Các , triệu chứng viêm loét dạ dày,  gồm có:,...</td>\n",
       "      <td>NaN</td>\n",
       "      <td>NaN</td>\n",
       "      <td>NaN</td>\n",
       "      <td>[Thủ thuật nội soi: Việc nội soi dạ dày sẽ giú...</td>\n",
       "      <td>[Bệnh , viêm loét dạ dày,  được phát hiện và đ...</td>\n",
       "      <td>3</td>\n",
       "    </tr>\n",
       "  </tbody>\n",
       "</table>\n",
       "</div>"
      ],
      "text/plain": [
       "           Tên bệnh                                          Tổng quan  \\\n",
       "4  Viêm loét dạ dày  [Viêm loét dạ dày,  là tổn thương gây viêm và ...   \n",
       "\n",
       "                                         Nguyên nhân  \\\n",
       "4  [Có rất nhiều nguyên nhân gây viêm loét dạ dày...   \n",
       "\n",
       "                                         Triệu chứng Đường lây truyền  \\\n",
       "4  [Các , triệu chứng viêm loét dạ dày,  gồm có:,...              NaN   \n",
       "\n",
       "  Đối tượng nguy cơ Phòng ngừa  \\\n",
       "4               NaN        NaN   \n",
       "\n",
       "                             Các biện pháp chẩn đoán  \\\n",
       "4  [Thủ thuật nội soi: Việc nội soi dạ dày sẽ giú...   \n",
       "\n",
       "                              Các biện pháp điều trị  count null  \n",
       "4  [Bệnh , viêm loét dạ dày,  được phát hiện và đ...           3  "
      ]
     },
     "execution_count": 17,
     "metadata": {},
     "output_type": "execute_result"
    }
   ],
   "source": [
    "df[df[\"Tên bệnh\"]==\"Viêm loét dạ dày\"]"
   ]
  },
  {
   "cell_type": "code",
   "execution_count": 11,
   "metadata": {},
   "outputs": [
    {
     "data": {
      "text/plain": [
       "Tên bệnh                    0\n",
       "Tổng quan                   0\n",
       "Nguyên nhân                 0\n",
       "Triệu chứng                 0\n",
       "Đường lây truyền           16\n",
       "Đối tượng nguy cơ           5\n",
       "Phòng ngừa                  2\n",
       "Các biện pháp chẩn đoán     0\n",
       "Các biện pháp điều trị      0\n",
       "count null                  0\n",
       "dtype: int64"
      ]
     },
     "execution_count": 11,
     "metadata": {},
     "output_type": "execute_result"
    }
   ],
   "source": [
    "df.isnull().sum()"
   ]
  },
  {
   "cell_type": "code",
   "execution_count": 12,
   "metadata": {},
   "outputs": [
    {
     "data": {
      "text/plain": [
       "3    [Viêm ruột thừa xảy ra khi ruột thừa bị tắc ng...\n",
       "Name: Nguyên nhân, dtype: object"
      ]
     },
     "execution_count": 12,
     "metadata": {},
     "output_type": "execute_result"
    }
   ],
   "source": [
    "#trieu chung -> benh\n",
    "df.loc[df[\"Tên bệnh\"] == \"viêm ruột thừa\"]['Nguyên nhân']"
   ]
  },
  {
   "cell_type": "code",
   "execution_count": 13,
   "metadata": {},
   "outputs": [],
   "source": [
    "df.to_csv(\"../data/clean_data_2.csv\", encoding='utf-8-sig')"
   ]
  }
 ],
 "metadata": {
  "kernelspec": {
   "display_name": "Python 3.9.2 64-bit",
   "language": "python",
   "name": "python3"
  },
  "language_info": {
   "codemirror_mode": {
    "name": "ipython",
    "version": 3
   },
   "file_extension": ".py",
   "mimetype": "text/x-python",
   "name": "python",
   "nbconvert_exporter": "python",
   "pygments_lexer": "ipython3",
   "version": "3.9.2"
  },
  "orig_nbformat": 4,
  "vscode": {
   "interpreter": {
    "hash": "0ea2ad21493f101843a9230a98e6a9c800107df10eef217f0f5689877f90d8d7"
   }
  }
 },
 "nbformat": 4,
 "nbformat_minor": 2
}
